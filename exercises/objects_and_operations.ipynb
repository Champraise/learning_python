{
 "cells": [
  {
   "cell_type": "markdown",
   "id": "a2eb6003",
   "metadata": {},
   "source": [
    "# Chapter 4: Python Objects\n",
    "\n",
    "The following are code samples and exercises from chapter 4. "
   ]
  }
 ],
 "metadata": {
  "language_info": {
   "name": "python"
  }
 },
 "nbformat": 4,
 "nbformat_minor": 5
}
