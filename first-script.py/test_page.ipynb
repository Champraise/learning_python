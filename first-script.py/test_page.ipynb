{
 "cells": [
  {
   "cell_type": "code",
   "execution_count": 1,
   "id": "9c9844dd",
   "metadata": {},
   "outputs": [],
   "source": [
    "import numpy as np\n",
    "import pandas as pd"
   ]
  },
  {
   "cell_type": "code",
   "execution_count": 2,
   "id": "3b2672a2",
   "metadata": {},
   "outputs": [
    {
     "data": {
      "application/vnd.microsoft.datawrangler.viewer.v0+json": {
       "columns": [
        {
         "name": "index",
         "rawType": "int64",
         "type": "integer"
        },
        {
         "name": "Date",
         "rawType": "object",
         "type": "string"
        },
        {
         "name": "Open",
         "rawType": "float64",
         "type": "float"
        },
        {
         "name": "High",
         "rawType": "float64",
         "type": "float"
        },
        {
         "name": "Low",
         "rawType": "float64",
         "type": "float"
        },
        {
         "name": "Close",
         "rawType": "float64",
         "type": "float"
        },
        {
         "name": "Adj Close",
         "rawType": "float64",
         "type": "float"
        },
        {
         "name": "Volume",
         "rawType": "int64",
         "type": "integer"
        }
       ],
       "ref": "b5efc26e-04e7-427c-8498-7cd06465ff2d",
       "rows": [
        [
         "0",
         "2004-08-19",
         "49.676899",
         "51.693783",
         "47.669952",
         "49.845802",
         "49.845802",
         "44994500"
        ],
        [
         "1",
         "2004-08-20",
         "50.178635",
         "54.187561",
         "49.925285",
         "53.80505",
         "53.80505",
         "23005800"
        ],
        [
         "2",
         "2004-08-23",
         "55.017166",
         "56.373344",
         "54.172661",
         "54.346527",
         "54.346527",
         "18393200"
        ],
        [
         "3",
         "2004-08-24",
         "55.260582",
         "55.439419",
         "51.450363",
         "52.096165",
         "52.096165",
         "15361800"
        ],
        [
         "4",
         "2004-08-25",
         "52.140873",
         "53.651051",
         "51.604362",
         "52.657513",
         "52.657513",
         "9257400"
        ]
       ],
       "shape": {
        "columns": 7,
        "rows": 5
       }
      },
      "text/html": [
       "<div>\n",
       "<style scoped>\n",
       "    .dataframe tbody tr th:only-of-type {\n",
       "        vertical-align: middle;\n",
       "    }\n",
       "\n",
       "    .dataframe tbody tr th {\n",
       "        vertical-align: top;\n",
       "    }\n",
       "\n",
       "    .dataframe thead th {\n",
       "        text-align: right;\n",
       "    }\n",
       "</style>\n",
       "<table border=\"1\" class=\"dataframe\">\n",
       "  <thead>\n",
       "    <tr style=\"text-align: right;\">\n",
       "      <th></th>\n",
       "      <th>Date</th>\n",
       "      <th>Open</th>\n",
       "      <th>High</th>\n",
       "      <th>Low</th>\n",
       "      <th>Close</th>\n",
       "      <th>Adj Close</th>\n",
       "      <th>Volume</th>\n",
       "    </tr>\n",
       "  </thead>\n",
       "  <tbody>\n",
       "    <tr>\n",
       "      <th>0</th>\n",
       "      <td>2004-08-19</td>\n",
       "      <td>49.676899</td>\n",
       "      <td>51.693783</td>\n",
       "      <td>47.669952</td>\n",
       "      <td>49.845802</td>\n",
       "      <td>49.845802</td>\n",
       "      <td>44994500</td>\n",
       "    </tr>\n",
       "    <tr>\n",
       "      <th>1</th>\n",
       "      <td>2004-08-20</td>\n",
       "      <td>50.178635</td>\n",
       "      <td>54.187561</td>\n",
       "      <td>49.925285</td>\n",
       "      <td>53.805050</td>\n",
       "      <td>53.805050</td>\n",
       "      <td>23005800</td>\n",
       "    </tr>\n",
       "    <tr>\n",
       "      <th>2</th>\n",
       "      <td>2004-08-23</td>\n",
       "      <td>55.017166</td>\n",
       "      <td>56.373344</td>\n",
       "      <td>54.172661</td>\n",
       "      <td>54.346527</td>\n",
       "      <td>54.346527</td>\n",
       "      <td>18393200</td>\n",
       "    </tr>\n",
       "    <tr>\n",
       "      <th>3</th>\n",
       "      <td>2004-08-24</td>\n",
       "      <td>55.260582</td>\n",
       "      <td>55.439419</td>\n",
       "      <td>51.450363</td>\n",
       "      <td>52.096165</td>\n",
       "      <td>52.096165</td>\n",
       "      <td>15361800</td>\n",
       "    </tr>\n",
       "    <tr>\n",
       "      <th>4</th>\n",
       "      <td>2004-08-25</td>\n",
       "      <td>52.140873</td>\n",
       "      <td>53.651051</td>\n",
       "      <td>51.604362</td>\n",
       "      <td>52.657513</td>\n",
       "      <td>52.657513</td>\n",
       "      <td>9257400</td>\n",
       "    </tr>\n",
       "  </tbody>\n",
       "</table>\n",
       "</div>"
      ],
      "text/plain": [
       "         Date       Open       High        Low      Close  Adj Close    Volume\n",
       "0  2004-08-19  49.676899  51.693783  47.669952  49.845802  49.845802  44994500\n",
       "1  2004-08-20  50.178635  54.187561  49.925285  53.805050  53.805050  23005800\n",
       "2  2004-08-23  55.017166  56.373344  54.172661  54.346527  54.346527  18393200\n",
       "3  2004-08-24  55.260582  55.439419  51.450363  52.096165  52.096165  15361800\n",
       "4  2004-08-25  52.140873  53.651051  51.604362  52.657513  52.657513   9257400"
      ]
     },
     "execution_count": 2,
     "metadata": {},
     "output_type": "execute_result"
    }
   ],
   "source": [
    "google_stock = pd.read_csv('goog-1.csv')\n",
    "google_stock.head()"
   ]
  },
  {
   "cell_type": "code",
   "execution_count": 3,
   "id": "da87f120",
   "metadata": {},
   "outputs": [
    {
     "data": {
      "application/vnd.microsoft.datawrangler.viewer.v0+json": {
       "columns": [
        {
         "name": "index",
         "rawType": "object",
         "type": "string"
        },
        {
         "name": "0",
         "rawType": "bool",
         "type": "boolean"
        }
       ],
       "ref": "041d9759-330f-4de7-97a6-fcc8d68cb866",
       "rows": [
        [
         "Date",
         "False"
        ],
        [
         "Open",
         "False"
        ],
        [
         "High",
         "False"
        ],
        [
         "Low",
         "False"
        ],
        [
         "Close",
         "False"
        ],
        [
         "Adj Close",
         "False"
        ],
        [
         "Volume",
         "False"
        ]
       ],
       "shape": {
        "columns": 1,
        "rows": 7
       }
      },
      "text/plain": [
       "Date         False\n",
       "Open         False\n",
       "High         False\n",
       "Low          False\n",
       "Close        False\n",
       "Adj Close    False\n",
       "Volume       False\n",
       "dtype: bool"
      ]
     },
     "execution_count": 3,
     "metadata": {},
     "output_type": "execute_result"
    }
   ],
   "source": [
    "google_stock.isnull().any()"
   ]
  },
  {
   "cell_type": "code",
   "execution_count": 4,
   "id": "c00d952f",
   "metadata": {},
   "outputs": [
    {
     "data": {
      "application/vnd.microsoft.datawrangler.viewer.v0+json": {
       "columns": [
        {
         "name": "index",
         "rawType": "object",
         "type": "string"
        },
        {
         "name": "Open",
         "rawType": "float64",
         "type": "float"
        },
        {
         "name": "High",
         "rawType": "float64",
         "type": "float"
        },
        {
         "name": "Low",
         "rawType": "float64",
         "type": "float"
        },
        {
         "name": "Close",
         "rawType": "float64",
         "type": "float"
        },
        {
         "name": "Adj Close",
         "rawType": "float64",
         "type": "float"
        },
        {
         "name": "Volume",
         "rawType": "float64",
         "type": "float"
        }
       ],
       "ref": "02b2af63-a260-44d0-9471-023dd66a0c4a",
       "rows": [
        [
         "count",
         "3313.0",
         "3313.0",
         "3313.0",
         "3313.0",
         "3313.0",
         "3313.0"
        ],
        [
         "mean",
         "380.18609171325085",
         "383.49373955176577",
         "376.5193088641714",
         "380.07245805795355",
         "380.07245805795355",
         "8038475.550860248"
        ],
        [
         "std",
         "223.81865009816383",
         "224.97453381581934",
         "222.47323197519427",
         "223.8537797063151",
         "223.8537797063151",
         "8399521.046780098"
        ],
        [
         "min",
         "49.274517",
         "50.541279",
         "47.669952",
         "49.681866",
         "49.681866",
         "7900.0"
        ],
        [
         "25%",
         "226.556473",
         "228.394516",
         "224.003082",
         "226.40744",
         "226.40744",
         "2584900.0"
        ],
        [
         "50%",
         "293.312286",
         "295.433502",
         "289.929291",
         "293.029114",
         "293.029114",
         "5281300.0"
        ],
        [
         "75%",
         "536.650024",
         "540.0",
         "532.409973",
         "536.690002",
         "536.690002",
         "10653700.0"
        ],
        [
         "max",
         "992.0",
         "997.210022",
         "989.0",
         "989.679993",
         "989.679993",
         "82768100.0"
        ]
       ],
       "shape": {
        "columns": 6,
        "rows": 8
       }
      },
      "text/html": [
       "<div>\n",
       "<style scoped>\n",
       "    .dataframe tbody tr th:only-of-type {\n",
       "        vertical-align: middle;\n",
       "    }\n",
       "\n",
       "    .dataframe tbody tr th {\n",
       "        vertical-align: top;\n",
       "    }\n",
       "\n",
       "    .dataframe thead th {\n",
       "        text-align: right;\n",
       "    }\n",
       "</style>\n",
       "<table border=\"1\" class=\"dataframe\">\n",
       "  <thead>\n",
       "    <tr style=\"text-align: right;\">\n",
       "      <th></th>\n",
       "      <th>Open</th>\n",
       "      <th>High</th>\n",
       "      <th>Low</th>\n",
       "      <th>Close</th>\n",
       "      <th>Adj Close</th>\n",
       "      <th>Volume</th>\n",
       "    </tr>\n",
       "  </thead>\n",
       "  <tbody>\n",
       "    <tr>\n",
       "      <th>count</th>\n",
       "      <td>3313.000000</td>\n",
       "      <td>3313.000000</td>\n",
       "      <td>3313.000000</td>\n",
       "      <td>3313.000000</td>\n",
       "      <td>3313.000000</td>\n",
       "      <td>3.313000e+03</td>\n",
       "    </tr>\n",
       "    <tr>\n",
       "      <th>mean</th>\n",
       "      <td>380.186092</td>\n",
       "      <td>383.493740</td>\n",
       "      <td>376.519309</td>\n",
       "      <td>380.072458</td>\n",
       "      <td>380.072458</td>\n",
       "      <td>8.038476e+06</td>\n",
       "    </tr>\n",
       "    <tr>\n",
       "      <th>std</th>\n",
       "      <td>223.818650</td>\n",
       "      <td>224.974534</td>\n",
       "      <td>222.473232</td>\n",
       "      <td>223.853780</td>\n",
       "      <td>223.853780</td>\n",
       "      <td>8.399521e+06</td>\n",
       "    </tr>\n",
       "    <tr>\n",
       "      <th>min</th>\n",
       "      <td>49.274517</td>\n",
       "      <td>50.541279</td>\n",
       "      <td>47.669952</td>\n",
       "      <td>49.681866</td>\n",
       "      <td>49.681866</td>\n",
       "      <td>7.900000e+03</td>\n",
       "    </tr>\n",
       "    <tr>\n",
       "      <th>25%</th>\n",
       "      <td>226.556473</td>\n",
       "      <td>228.394516</td>\n",
       "      <td>224.003082</td>\n",
       "      <td>226.407440</td>\n",
       "      <td>226.407440</td>\n",
       "      <td>2.584900e+06</td>\n",
       "    </tr>\n",
       "    <tr>\n",
       "      <th>50%</th>\n",
       "      <td>293.312286</td>\n",
       "      <td>295.433502</td>\n",
       "      <td>289.929291</td>\n",
       "      <td>293.029114</td>\n",
       "      <td>293.029114</td>\n",
       "      <td>5.281300e+06</td>\n",
       "    </tr>\n",
       "    <tr>\n",
       "      <th>75%</th>\n",
       "      <td>536.650024</td>\n",
       "      <td>540.000000</td>\n",
       "      <td>532.409973</td>\n",
       "      <td>536.690002</td>\n",
       "      <td>536.690002</td>\n",
       "      <td>1.065370e+07</td>\n",
       "    </tr>\n",
       "    <tr>\n",
       "      <th>max</th>\n",
       "      <td>992.000000</td>\n",
       "      <td>997.210022</td>\n",
       "      <td>989.000000</td>\n",
       "      <td>989.679993</td>\n",
       "      <td>989.679993</td>\n",
       "      <td>8.276810e+07</td>\n",
       "    </tr>\n",
       "  </tbody>\n",
       "</table>\n",
       "</div>"
      ],
      "text/plain": [
       "              Open         High          Low        Close    Adj Close  \\\n",
       "count  3313.000000  3313.000000  3313.000000  3313.000000  3313.000000   \n",
       "mean    380.186092   383.493740   376.519309   380.072458   380.072458   \n",
       "std     223.818650   224.974534   222.473232   223.853780   223.853780   \n",
       "min      49.274517    50.541279    47.669952    49.681866    49.681866   \n",
       "25%     226.556473   228.394516   224.003082   226.407440   226.407440   \n",
       "50%     293.312286   295.433502   289.929291   293.029114   293.029114   \n",
       "75%     536.650024   540.000000   532.409973   536.690002   536.690002   \n",
       "max     992.000000   997.210022   989.000000   989.679993   989.679993   \n",
       "\n",
       "             Volume  \n",
       "count  3.313000e+03  \n",
       "mean   8.038476e+06  \n",
       "std    8.399521e+06  \n",
       "min    7.900000e+03  \n",
       "25%    2.584900e+06  \n",
       "50%    5.281300e+06  \n",
       "75%    1.065370e+07  \n",
       "max    8.276810e+07  "
      ]
     },
     "execution_count": 4,
     "metadata": {},
     "output_type": "execute_result"
    }
   ],
   "source": [
    "google_stock.describe()"
   ]
  },
  {
   "cell_type": "code",
   "execution_count": 5,
   "id": "c1817c93",
   "metadata": {},
   "outputs": [
    {
     "data": {
      "application/vnd.microsoft.datawrangler.viewer.v0+json": {
       "columns": [
        {
         "name": "index",
         "rawType": "int64",
         "type": "integer"
        },
        {
         "name": "Year",
         "rawType": "int64",
         "type": "integer"
        },
        {
         "name": "Name",
         "rawType": "object",
         "type": "string"
        },
        {
         "name": "Department",
         "rawType": "object",
         "type": "string"
        },
        {
         "name": "Age",
         "rawType": "int64",
         "type": "integer"
        },
        {
         "name": "Salary",
         "rawType": "int64",
         "type": "integer"
        }
       ],
       "ref": "e2af9eb5-c9df-4992-9f2c-9c6a266573aa",
       "rows": [
        [
         "0",
         "1990",
         "Alice",
         "HR",
         "25",
         "50000"
        ],
        [
         "1",
         "1990",
         "Bob",
         "RD",
         "30",
         "48000"
        ],
        [
         "2",
         "1990",
         "Charlie",
         "Admin",
         "45",
         "55000"
        ],
        [
         "3",
         "1991",
         "Dakota",
         "HR",
         "26",
         "52000"
        ],
        [
         "4",
         "1991",
         "Elsa",
         "RD",
         "31",
         "50000"
        ],
        [
         "5",
         "1991",
         "Frank",
         "Admin",
         "46",
         "60000"
        ],
        [
         "6",
         "1992",
         "Grace",
         "Admin",
         "27",
         "60000"
        ],
        [
         "7",
         "1992",
         "Hoffman",
         "RD",
         "32",
         "52000"
        ],
        [
         "8",
         "1992",
         "Inaar",
         "Admin",
         "28",
         "62000"
        ]
       ],
       "shape": {
        "columns": 5,
        "rows": 9
       }
      },
      "text/html": [
       "<div>\n",
       "<style scoped>\n",
       "    .dataframe tbody tr th:only-of-type {\n",
       "        vertical-align: middle;\n",
       "    }\n",
       "\n",
       "    .dataframe tbody tr th {\n",
       "        vertical-align: top;\n",
       "    }\n",
       "\n",
       "    .dataframe thead th {\n",
       "        text-align: right;\n",
       "    }\n",
       "</style>\n",
       "<table border=\"1\" class=\"dataframe\">\n",
       "  <thead>\n",
       "    <tr style=\"text-align: right;\">\n",
       "      <th></th>\n",
       "      <th>Year</th>\n",
       "      <th>Name</th>\n",
       "      <th>Department</th>\n",
       "      <th>Age</th>\n",
       "      <th>Salary</th>\n",
       "    </tr>\n",
       "  </thead>\n",
       "  <tbody>\n",
       "    <tr>\n",
       "      <th>0</th>\n",
       "      <td>1990</td>\n",
       "      <td>Alice</td>\n",
       "      <td>HR</td>\n",
       "      <td>25</td>\n",
       "      <td>50000</td>\n",
       "    </tr>\n",
       "    <tr>\n",
       "      <th>1</th>\n",
       "      <td>1990</td>\n",
       "      <td>Bob</td>\n",
       "      <td>RD</td>\n",
       "      <td>30</td>\n",
       "      <td>48000</td>\n",
       "    </tr>\n",
       "    <tr>\n",
       "      <th>2</th>\n",
       "      <td>1990</td>\n",
       "      <td>Charlie</td>\n",
       "      <td>Admin</td>\n",
       "      <td>45</td>\n",
       "      <td>55000</td>\n",
       "    </tr>\n",
       "    <tr>\n",
       "      <th>3</th>\n",
       "      <td>1991</td>\n",
       "      <td>Dakota</td>\n",
       "      <td>HR</td>\n",
       "      <td>26</td>\n",
       "      <td>52000</td>\n",
       "    </tr>\n",
       "    <tr>\n",
       "      <th>4</th>\n",
       "      <td>1991</td>\n",
       "      <td>Elsa</td>\n",
       "      <td>RD</td>\n",
       "      <td>31</td>\n",
       "      <td>50000</td>\n",
       "    </tr>\n",
       "    <tr>\n",
       "      <th>5</th>\n",
       "      <td>1991</td>\n",
       "      <td>Frank</td>\n",
       "      <td>Admin</td>\n",
       "      <td>46</td>\n",
       "      <td>60000</td>\n",
       "    </tr>\n",
       "    <tr>\n",
       "      <th>6</th>\n",
       "      <td>1992</td>\n",
       "      <td>Grace</td>\n",
       "      <td>Admin</td>\n",
       "      <td>27</td>\n",
       "      <td>60000</td>\n",
       "    </tr>\n",
       "    <tr>\n",
       "      <th>7</th>\n",
       "      <td>1992</td>\n",
       "      <td>Hoffman</td>\n",
       "      <td>RD</td>\n",
       "      <td>32</td>\n",
       "      <td>52000</td>\n",
       "    </tr>\n",
       "    <tr>\n",
       "      <th>8</th>\n",
       "      <td>1992</td>\n",
       "      <td>Inaar</td>\n",
       "      <td>Admin</td>\n",
       "      <td>28</td>\n",
       "      <td>62000</td>\n",
       "    </tr>\n",
       "  </tbody>\n",
       "</table>\n",
       "</div>"
      ],
      "text/plain": [
       "   Year     Name Department  Age  Salary\n",
       "0  1990    Alice         HR   25   50000\n",
       "1  1990      Bob         RD   30   48000\n",
       "2  1990  Charlie      Admin   45   55000\n",
       "3  1991   Dakota         HR   26   52000\n",
       "4  1991     Elsa         RD   31   50000\n",
       "5  1991    Frank      Admin   46   60000\n",
       "6  1992    Grace      Admin   27   60000\n",
       "7  1992  Hoffman         RD   32   52000\n",
       "8  1992    Inaar      Admin   28   62000"
      ]
     },
     "execution_count": 5,
     "metadata": {},
     "output_type": "execute_result"
    }
   ],
   "source": [
    "data = pd.read_csv('fake-company.csv')\n",
    "data"
   ]
  },
  {
   "cell_type": "code",
   "execution_count": 6,
   "id": "0e6467d0",
   "metadata": {},
   "outputs": [
    {
     "data": {
      "application/vnd.microsoft.datawrangler.viewer.v0+json": {
       "columns": [
        {
         "name": "Year",
         "rawType": "int64",
         "type": "integer"
        },
        {
         "name": "Salary",
         "rawType": "int64",
         "type": "integer"
        }
       ],
       "ref": "d15c9a59-a21c-45ec-a59b-1eda1e5aa35b",
       "rows": [
        [
         "1990",
         "153000"
        ],
        [
         "1991",
         "162000"
        ],
        [
         "1992",
         "174000"
        ]
       ],
       "shape": {
        "columns": 1,
        "rows": 3
       }
      },
      "text/plain": [
       "Year\n",
       "1990    153000\n",
       "1991    162000\n",
       "1992    174000\n",
       "Name: Salary, dtype: int64"
      ]
     },
     "execution_count": 6,
     "metadata": {},
     "output_type": "execute_result"
    }
   ],
   "source": [
    "data.groupby(['Year'])['Salary'].sum()"
   ]
  },
  {
   "cell_type": "code",
   "execution_count": 7,
   "id": "4da784f7",
   "metadata": {},
   "outputs": [
    {
     "data": {
      "application/vnd.microsoft.datawrangler.viewer.v0+json": {
       "columns": [
        {
         "name": "Year",
         "rawType": "int64",
         "type": "integer"
        },
        {
         "name": "Salary",
         "rawType": "float64",
         "type": "float"
        }
       ],
       "ref": "61357e4a-7543-437c-9f70-a74804bdcdab",
       "rows": [
        [
         "1990",
         "51000.0"
        ],
        [
         "1991",
         "54000.0"
        ],
        [
         "1992",
         "58000.0"
        ]
       ],
       "shape": {
        "columns": 1,
        "rows": 3
       }
      },
      "text/plain": [
       "Year\n",
       "1990    51000.0\n",
       "1991    54000.0\n",
       "1992    58000.0\n",
       "Name: Salary, dtype: float64"
      ]
     },
     "execution_count": 7,
     "metadata": {},
     "output_type": "execute_result"
    }
   ],
   "source": [
    "data.groupby(['Year'])['Salary'].mean()"
   ]
  },
  {
   "cell_type": "code",
   "execution_count": 8,
   "id": "794bb174",
   "metadata": {},
   "outputs": [
    {
     "data": {
      "application/vnd.microsoft.datawrangler.viewer.v0+json": {
       "columns": [
        {
         "name": "Name",
         "rawType": "object",
         "type": "string"
        },
        {
         "name": "Salary",
         "rawType": "int64",
         "type": "integer"
        }
       ],
       "ref": "0e745249-73a1-49b4-a850-92c27a222718",
       "rows": [
        [
         "Alice",
         "50000"
        ],
        [
         "Bob",
         "48000"
        ],
        [
         "Charlie",
         "55000"
        ],
        [
         "Dakota",
         "52000"
        ],
        [
         "Elsa",
         "50000"
        ],
        [
         "Frank",
         "60000"
        ],
        [
         "Grace",
         "60000"
        ],
        [
         "Hoffman",
         "52000"
        ],
        [
         "Inaar",
         "62000"
        ]
       ],
       "shape": {
        "columns": 1,
        "rows": 9
       }
      },
      "text/plain": [
       "Name\n",
       "Alice      50000\n",
       "Bob        48000\n",
       "Charlie    55000\n",
       "Dakota     52000\n",
       "Elsa       50000\n",
       "Frank      60000\n",
       "Grace      60000\n",
       "Hoffman    52000\n",
       "Inaar      62000\n",
       "Name: Salary, dtype: int64"
      ]
     },
     "execution_count": 8,
     "metadata": {},
     "output_type": "execute_result"
    }
   ],
   "source": [
    "data.groupby(['Name'])['Salary'].sum()"
   ]
  },
  {
   "cell_type": "code",
   "execution_count": 9,
   "id": "cd049eb0",
   "metadata": {},
   "outputs": [
    {
     "data": {
      "application/vnd.microsoft.datawrangler.viewer.v0+json": {
       "columns": [
        {
         "name": "('Year', 'Department')",
         "rawType": "object",
         "type": "unknown"
        },
        {
         "name": "Salary",
         "rawType": "int64",
         "type": "integer"
        }
       ],
       "ref": "a05140c2-ddb4-403e-9d0f-afdb735ef90e",
       "rows": [
        [
         "(np.int64(1990), 'Admin')",
         "55000"
        ],
        [
         "(np.int64(1990), 'HR')",
         "50000"
        ],
        [
         "(np.int64(1990), 'RD')",
         "48000"
        ],
        [
         "(np.int64(1991), 'Admin')",
         "60000"
        ],
        [
         "(np.int64(1991), 'HR')",
         "52000"
        ],
        [
         "(np.int64(1991), 'RD')",
         "50000"
        ],
        [
         "(np.int64(1992), 'Admin')",
         "122000"
        ],
        [
         "(np.int64(1992), 'RD')",
         "52000"
        ]
       ],
       "shape": {
        "columns": 1,
        "rows": 8
       }
      },
      "text/plain": [
       "Year  Department\n",
       "1990  Admin          55000\n",
       "      HR             50000\n",
       "      RD             48000\n",
       "1991  Admin          60000\n",
       "      HR             52000\n",
       "      RD             50000\n",
       "1992  Admin         122000\n",
       "      RD             52000\n",
       "Name: Salary, dtype: int64"
      ]
     },
     "execution_count": 9,
     "metadata": {},
     "output_type": "execute_result"
    }
   ],
   "source": [
    "data.groupby(['Year', 'Department'])['Salary'].sum()"
   ]
  },
  {
   "cell_type": "code",
   "execution_count": null,
   "id": "cc172586",
   "metadata": {},
   "outputs": [],
   "source": [
    "data.groupby(['Year', 'Department'])['Salary'].agg(['sum', 'mean'])"
   ]
  }
 ],
 "metadata": {
  "kernelspec": {
   "display_name": "base",
   "language": "python",
   "name": "python3"
  },
  "language_info": {
   "codemirror_mode": {
    "name": "ipython",
    "version": 3
   },
   "file_extension": ".py",
   "mimetype": "text/x-python",
   "name": "python",
   "nbconvert_exporter": "python",
   "pygments_lexer": "ipython3",
   "version": "3.13.5"
  }
 },
 "nbformat": 4,
 "nbformat_minor": 5
}
